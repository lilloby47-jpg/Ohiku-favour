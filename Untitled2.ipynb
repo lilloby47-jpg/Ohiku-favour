{
 "cells": [
  {
   "cell_type": "code",
   "execution_count": 1,
   "id": "bf0b9c31-06ef-4b1d-a743-21302e74ee31",
   "metadata": {},
   "outputs": [
    {
     "name": "stdout",
     "output_type": "stream",
     "text": [
      "Hello jupyter!\n"
     ]
    }
   ],
   "source": [
    "print(\"Hello jupyter!\")"
   ]
  },
  {
   "cell_type": "code",
   "execution_count": null,
   "id": "233f46e2-baa5-42a4-b2c8-4b56ece54c5c",
   "metadata": {},
   "outputs": [],
   "source": [
    "## Data Types"
   ]
  },
  {
   "cell_type": "code",
   "execution_count": 4,
   "id": "11666b20-4658-46bf-b923-c576ac6aa690",
   "metadata": {},
   "outputs": [
    {
     "name": "stdout",
     "output_type": "stream",
     "text": [
      "Integer: 42\n",
      "Float: 3.14159\n",
      "Complex: (2+3j)\n",
      "String: Hello, ChatGPT!\n",
      "Boolean: True\n"
     ]
    }
   ],
   "source": [
    "\n",
    "\n",
    "# Integer\n",
    "integer_example = 42\n",
    "print(\"Integer:\", integer_example)\n",
    "\n",
    "# Float\n",
    "float_example = 3.14159\n",
    "print(\"Float:\", float_example)\n",
    "\n",
    "# Complex\n",
    "complex_example = 2 + 3j\n",
    "print(\"Complex:\", complex_example)\n",
    "\n",
    "# String\n",
    "string_example = \"Hello, ChatGPT!\"\n",
    "print(\"String:\", string_example)\n",
    "\n",
    "# Boolean\n",
    "boolean_example = True\n",
    "print(\"Boolean:\", boolean_example)\n"
   ]
  },
  {
   "cell_type": "code",
   "execution_count": null,
   "id": "d9b95860-02c5-414d-92f7-9ba04f02f33f",
   "metadata": {},
   "outputs": [],
   "source": [
    "## Data Structures\n"
   ]
  },
  {
   "cell_type": "code",
   "execution_count": 3,
   "id": "897409c9-8eec-4a54-b70a-419aa348cd54",
   "metadata": {},
   "outputs": [
    {
     "name": "stdout",
     "output_type": "stream",
     "text": [
      "\n",
      "Set: {1, 2, 3, 4, 5}\n",
      "Dictionary: {'name': 'Alice', 'age': 25}\n",
      "List: [10, 20, 30, 40, 50]\n",
      "Tuple: (100, 200, 300)\n"
     ]
    }
   ],
   "source": [
    "# Set\n",
    "set_example = {1, 2, 3, 4, 5}\n",
    "print(\"\\nSet:\", set_example)\n",
    "\n",
    "# Dictionary\n",
    "dictionary_example = {\"name\": \"Alice\", \"age\": 25}\n",
    "print(\"Dictionary:\", dictionary_example)\n",
    "\n",
    "# List\n",
    "list_example = [10, 20, 30, 40, 50]\n",
    "print(\"List:\", list_example)\n",
    "\n",
    "# Tuple\n",
    "tuple_example = (100, 200, 300)\n",
    "print(\"Tuple:\", tuple_example)\n"
   ]
  },
  {
   "cell_type": "code",
   "execution_count": null,
   "id": "5d93ce9f-7794-4e7b-b949-2bb75a836ac9",
   "metadata": {},
   "outputs": [],
   "source": []
  }
 ],
 "metadata": {
  "kernelspec": {
   "display_name": "Python 3 (ipykernel)",
   "language": "python",
   "name": "python3"
  },
  "language_info": {
   "codemirror_mode": {
    "name": "ipython",
    "version": 3
   },
   "file_extension": ".py",
   "mimetype": "text/x-python",
   "name": "python",
   "nbconvert_exporter": "python",
   "pygments_lexer": "ipython3",
   "version": "3.13.3"
  }
 },
 "nbformat": 4,
 "nbformat_minor": 5
}
